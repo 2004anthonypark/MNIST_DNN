{
  "nbformat": 4,
  "nbformat_minor": 0,
  "metadata": {
    "colab": {
      "name": "Untitled5.ipynb",
      "provenance": [],
      "collapsed_sections": []
    },
    "kernelspec": {
      "name": "python3",
      "display_name": "Python 3"
    },
    "language_info": {
      "name": "python"
    },
    "accelerator": "GPU"
  },
  "cells": [
    {
      "cell_type": "code",
      "execution_count": 4,
      "metadata": {
        "id": "UVd7cnqg0SCO"
      },
      "outputs": [],
      "source": [
        "import torch ## pytorch : facebook, tensorflow : google\n",
        "import torchvision.datasets as dsets\n",
        "import torchvision.transforms as transforms\n",
        "import matplotlib.pyplot as plt\n",
        "import random\n",
        "import torch.nn as nn\n",
        "import numpy as np"
      ]
    },
    {
      "cell_type": "code",
      "source": [
        "### gpu에서 돌리기 위한 세팅.\n",
        "device = 'cuda' if torch.cuda.is_available() else 'cpu'\n",
        "random.seed(777)\n",
        "torch.manual_seed(777)\n",
        "if device == 'cuda':\n",
        "  torch.cuda.manual_seed_all(777)\n",
        "\n",
        "\n",
        "### hyper-parameter\n",
        "epochs = 15 ## 학습 횟수\n",
        "batch_size = 100 ## 몇 개씩 데이터를 묶음지어 학습시킬지"
      ],
      "metadata": {
        "id": "Liw7O0p40-FS"
      },
      "execution_count": 5,
      "outputs": []
    },
    {
      "cell_type": "code",
      "source": [
        "### 데이터셋 다운로드 ( MNIST )\n",
        "mnist_train = dsets.MNIST(root = 'MNIST_data/', train = True, \n",
        "                          transform=transforms.ToTensor(), download=True)\n",
        "mnist_test = dsets.MNIST(root = 'MNIST_data/', train = False, \n",
        "                         transform=transforms.ToTensor(), download=True)\n",
        "data_loader = torch.utils.data.DataLoader(dataset=mnist_train, batch_size = batch_size, shuffle=True, drop_last = True)\n",
        "\n",
        "### 인공 신경망(DNN)\n",
        "my_network = torch.nn.Linear(784,10, bias=True).to(device) # my_network : 내가 구축한 인공신경만 (7840개의 weight(784 * 10 + 10))\n",
        "criterion = torch.nn.CrossEntropyLoss().to(device) # criterion : 손실함수(loss) = 얼마나 정답과 차이가 나는지 계산하는 함수\n",
        "optimizer = torch.optim.SGD(my_network.parameters(), lr=0.1) # optimizer : w들이 담겨있는 곳"
      ],
      "metadata": {
        "id": "QaC5mScj1x7i"
      },
      "execution_count": 7,
      "outputs": []
    },
    {
      "cell_type": "code",
      "source": [
        "### Training (학습)(weight 조정)\n",
        "### epo : 몇번 째 학습인지\n",
        "for epo in range(epochs):\n",
        "  avg_cost = 0\n",
        "  total_batch = len(data_loader)\n",
        "  for X, Y in data_loader:\n",
        "\n",
        "    X = X.view(-1,784).to(device)\n",
        "    Y = Y.to(device)\n",
        "    optimizer.zero_grad()\n",
        "    pred = my_network(X)\n",
        "    cost = criterion(pred, Y)\n",
        "    cost.backward()\n",
        "    optimizer.step()\n",
        "    avg_cost += cost/total_batch\n",
        "  print('Epoch : ', '%04d' % (epo+1), 'cost = ', '{:.9f}'.format(avg_cost))\n",
        "print(\"Training END\")"
      ],
      "metadata": {
        "colab": {
          "base_uri": "https://localhost:8080/"
        },
        "id": "I4OKu-r12b6B",
        "outputId": "985ae622-c616-4451-8ad7-ec132b84309f"
      },
      "execution_count": 9,
      "outputs": [
        {
          "output_type": "stream",
          "name": "stdout",
          "text": [
            "Epoch :  0001 cost =  0.535254478\n",
            "Epoch :  0002 cost =  0.359565467\n",
            "Epoch :  0003 cost =  0.331331462\n",
            "Epoch :  0004 cost =  0.316739529\n",
            "Epoch :  0005 cost =  0.307082176\n",
            "Epoch :  0006 cost =  0.300353378\n",
            "Epoch :  0007 cost =  0.295035094\n",
            "Epoch :  0008 cost =  0.290944397\n",
            "Epoch :  0009 cost =  0.287454665\n",
            "Epoch :  0010 cost =  0.284611940\n",
            "Epoch :  0011 cost =  0.281964421\n",
            "Epoch :  0012 cost =  0.279787809\n",
            "Epoch :  0013 cost =  0.277861863\n",
            "Epoch :  0014 cost =  0.276170701\n",
            "Epoch :  0015 cost =  0.274366587\n",
            "Training END\n"
          ]
        }
      ]
    },
    {
      "cell_type": "code",
      "source": [
        "with torch.no_grad():\n",
        "  X_test = mnist_test.test_data.view(-1,784).float().to(device)\n",
        "  Y_test = mnist_test.test_labels.to(device)\n",
        "  pred = my_network(X_test)\n",
        "  correct_pred = torch.argmax(pred,1) == Y_test\n",
        "  acc = correct_pred.float().mean()\n",
        "  print('Accuracy : ', acc.item())\n",
        "\n",
        "  i = random.randint(0, len(mnist_test)-1)\n",
        "  X_single = mnist_test.test_data[i:i+1].view(-1,784).float().to(device)\n",
        "  Y_single = mnist_test.test_labels[i:i+1].to(device)\n",
        "  print('Label : ', Y_single.item())\n",
        "  s_pred = my_network(X_single)\n",
        "  print('my prediction : ', torch.argmax(s_pred,1).item())\n",
        "  plt.imshow(mnist_test.test_data[i:i+1].view(28,28), cmap = 'Greys', interpolation = 'nearest')\n",
        "  plt.show()\n"
      ],
      "metadata": {
        "colab": {
          "base_uri": "https://localhost:8080/",
          "height": 390
        },
        "id": "w5nmUC3c8FFs",
        "outputId": "cb7609a7-9942-4021-9c99-410144526310"
      },
      "execution_count": 15,
      "outputs": [
        {
          "output_type": "stream",
          "name": "stdout",
          "text": [
            "Accuracy :  0.8904999494552612\n",
            "Label :  5\n",
            "my prediction :  5\n"
          ]
        },
        {
          "output_type": "stream",
          "name": "stderr",
          "text": [
            "/usr/local/lib/python3.7/dist-packages/torchvision/datasets/mnist.py:67: UserWarning: test_data has been renamed data\n",
            "  warnings.warn(\"test_data has been renamed data\")\n",
            "/usr/local/lib/python3.7/dist-packages/torchvision/datasets/mnist.py:57: UserWarning: test_labels has been renamed targets\n",
            "  warnings.warn(\"test_labels has been renamed targets\")\n"
          ]
        },
        {
          "output_type": "display_data",
          "data": {
            "text/plain": [
              "<Figure size 432x288 with 1 Axes>"
            ],
            "image/png": "[encoded data removed]"
          },
          "metadata": {
            "needs_background": "light"
          }
        }
      ]
    },
    {
      "cell_type": "code",
      "source": [
        "my_data = [[0 for i in range(28)] for i in range(28)]\n",
        "\n",
        "for i in range(4,25,10):\n",
        "  for j in range(1,27):\n",
        "    my_data[i][j]=1\n",
        "for i in range(4,25):\n",
        "  my_data[i][26]=1\n",
        "my_data = np.array(my_data)\n",
        "print(my_data)\n",
        "with torch.no_grad():\n",
        "    my_data = torch.tensor(my_data)\n",
        "    plt.imshow(my_data.view(28,28),cmap='Greys',interpolation='nearest')\n",
        "    plt.show()\n",
        "    my_data_flatten = my_data.view(-1,784).float().to(device)\n",
        "    result = my_network(my_data_flatten)\n",
        "    print('Label : ', torch.argmax(result, 1).item())"
      ],
      "metadata": {
        "colab": {
          "base_uri": "https://localhost:8080/",
          "height": 785
        },
        "id": "ZzdyOOAkCcZ6",
        "outputId": "dbd6effb-efc7-4dbe-f72b-fdc8bfe1ec6f"
      },
      "execution_count": 21,
      "outputs": [
        {
          "output_type": "stream",
          "name": "stdout",
          "text": [
            "[[0 0 0 0 0 0 0 0 0 0 0 0 0 0 0 0 0 0 0 0 0 0 0 0 0 0 0 0]\n",
            " [0 0 0 0 0 0 0 0 0 0 0 0 0 0 0 0 0 0 0 0 0 0 0 0 0 0 0 0]\n",
            " [0 0 0 0 0 0 0 0 0 0 0 0 0 0 0 0 0 0 0 0 0 0 0 0 0 0 0 0]\n",
            " [0 0 0 0 0 0 0 0 0 0 0 0 0 0 0 0 0 0 0 0 0 0 0 0 0 0 0 0]\n",
            " [0 1 1 1 1 1 1 1 1 1 1 1 1 1 1 1 1 1 1 1 1 1 1 1 1 1 1 0]\n",
            " [0 0 0 0 0 0 0 0 0 0 0 0 0 0 0 0 0 0 0 0 0 0 0 0 0 0 1 0]\n",
            " [0 0 0 0 0 0 0 0 0 0 0 0 0 0 0 0 0 0 0 0 0 0 0 0 0 0 1 0]\n",
            " [0 0 0 0 0 0 0 0 0 0 0 0 0 0 0 0 0 0 0 0 0 0 0 0 0 0 1 0]\n",
            " [0 0 0 0 0 0 0 0 0 0 0 0 0 0 0 0 0 0 0 0 0 0 0 0 0 0 1 0]\n",
            " [0 0 0 0 0 0 0 0 0 0 0 0 0 0 0 0 0 0 0 0 0 0 0 0 0 0 1 0]\n",
            " [0 0 0 0 0 0 0 0 0 0 0 0 0 0 0 0 0 0 0 0 0 0 0 0 0 0 1 0]\n",
            " [0 0 0 0 0 0 0 0 0 0 0 0 0 0 0 0 0 0 0 0 0 0 0 0 0 0 1 0]\n",
            " [0 0 0 0 0 0 0 0 0 0 0 0 0 0 0 0 0 0 0 0 0 0 0 0 0 0 1 0]\n",
            " [0 0 0 0 0 0 0 0 0 0 0 0 0 0 0 0 0 0 0 0 0 0 0 0 0 0 1 0]\n",
            " [0 1 1 1 1 1 1 1 1 1 1 1 1 1 1 1 1 1 1 1 1 1 1 1 1 1 1 0]\n",
            " [0 0 0 0 0 0 0 0 0 0 0 0 0 0 0 0 0 0 0 0 0 0 0 0 0 0 1 0]\n",
            " [0 0 0 0 0 0 0 0 0 0 0 0 0 0 0 0 0 0 0 0 0 0 0 0 0 0 1 0]\n",
            " [0 0 0 0 0 0 0 0 0 0 0 0 0 0 0 0 0 0 0 0 0 0 0 0 0 0 1 0]\n",
            " [0 0 0 0 0 0 0 0 0 0 0 0 0 0 0 0 0 0 0 0 0 0 0 0 0 0 1 0]\n",
            " [0 0 0 0 0 0 0 0 0 0 0 0 0 0 0 0 0 0 0 0 0 0 0 0 0 0 1 0]\n",
            " [0 0 0 0 0 0 0 0 0 0 0 0 0 0 0 0 0 0 0 0 0 0 0 0 0 0 1 0]\n",
            " [0 0 0 0 0 0 0 0 0 0 0 0 0 0 0 0 0 0 0 0 0 0 0 0 0 0 1 0]\n",
            " [0 0 0 0 0 0 0 0 0 0 0 0 0 0 0 0 0 0 0 0 0 0 0 0 0 0 1 0]\n",
            " [0 0 0 0 0 0 0 0 0 0 0 0 0 0 0 0 0 0 0 0 0 0 0 0 0 0 1 0]\n",
            " [0 1 1 1 1 1 1 1 1 1 1 1 1 1 1 1 1 1 1 1 1 1 1 1 1 1 1 0]\n",
            " [0 0 0 0 0 0 0 0 0 0 0 0 0 0 0 0 0 0 0 0 0 0 0 0 0 0 0 0]\n",
            " [0 0 0 0 0 0 0 0 0 0 0 0 0 0 0 0 0 0 0 0 0 0 0 0 0 0 0 0]\n",
            " [0 0 0 0 0 0 0 0 0 0 0 0 0 0 0 0 0 0 0 0 0 0 0 0 0 0 0 0]]\n"
          ]
        },
        {
          "output_type": "display_data",
          "data": {
            "text/plain": [
              "<Figure size 432x288 with 1 Axes>"
            ],
            "image/png": "[encoded data removed]"
          },
          "metadata": {
            "needs_background": "light"
          }
        },
        {
          "output_type": "stream",
          "name": "stdout",
          "text": [
            "Label :  3\n"
          ]
        }
      ]
    }
  ]
}